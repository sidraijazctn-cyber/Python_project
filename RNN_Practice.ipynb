{
  "nbformat": 4,
  "nbformat_minor": 0,
  "metadata": {
    "colab": {
      "provenance": [],
      "authorship_tag": "ABX9TyPLimX4NtDAOEumMLQc1uJg",
      "include_colab_link": true
    },
    "kernelspec": {
      "name": "python3",
      "display_name": "Python 3"
    },
    "language_info": {
      "name": "python"
    }
  },
  "cells": [
    {
      "cell_type": "markdown",
      "metadata": {
        "id": "view-in-github",
        "colab_type": "text"
      },
      "source": [
        "<a href=\"https://colab.research.google.com/github/sidraijazctn-cyber/Python_project/blob/main/RNN_Practice.ipynb\" target=\"_parent\"><img src=\"https://colab.research.google.com/assets/colab-badge.svg\" alt=\"Open In Colab\"/></a>"
      ]
    },
    {
      "cell_type": "code",
      "execution_count": null,
      "metadata": {
        "colab": {
          "base_uri": "https://localhost:8080/"
        },
        "id": "hY53CHt7v1BL",
        "outputId": "65ae57ce-a05d-4fa9-995a-c27951686e09"
      },
      "outputs": [
        {
          "output_type": "stream",
          "name": "stdout",
          "text": [
            "Epoch 1/10\n"
          ]
        },
        {
          "output_type": "stream",
          "name": "stderr",
          "text": [
            "/usr/local/lib/python3.12/dist-packages/keras/src/layers/core/embedding.py:97: UserWarning: Argument `input_length` is deprecated. Just remove it.\n",
            "  warnings.warn(\n"
          ]
        },
        {
          "output_type": "stream",
          "name": "stdout",
          "text": [
            "\u001b[1m1/1\u001b[0m \u001b[32m━━━━━━━━━━━━━━━━━━━━\u001b[0m\u001b[37m\u001b[0m \u001b[1m2s\u001b[0m 2s/step - accuracy: 0.4000 - loss: 0.6975\n",
            "Epoch 2/10\n",
            "\u001b[1m1/1\u001b[0m \u001b[32m━━━━━━━━━━━━━━━━━━━━\u001b[0m\u001b[37m\u001b[0m \u001b[1m0s\u001b[0m 43ms/step - accuracy: 0.6000 - loss: 0.6799\n",
            "Epoch 3/10\n",
            "\u001b[1m1/1\u001b[0m \u001b[32m━━━━━━━━━━━━━━━━━━━━\u001b[0m\u001b[37m\u001b[0m \u001b[1m0s\u001b[0m 45ms/step - accuracy: 0.7000 - loss: 0.6628\n",
            "Epoch 4/10\n",
            "\u001b[1m1/1\u001b[0m \u001b[32m━━━━━━━━━━━━━━━━━━━━\u001b[0m\u001b[37m\u001b[0m \u001b[1m0s\u001b[0m 44ms/step - accuracy: 0.8000 - loss: 0.6456\n",
            "Epoch 5/10\n",
            "\u001b[1m1/1\u001b[0m \u001b[32m━━━━━━━━━━━━━━━━━━━━\u001b[0m\u001b[37m\u001b[0m \u001b[1m0s\u001b[0m 43ms/step - accuracy: 0.9000 - loss: 0.6279\n",
            "Epoch 6/10\n",
            "\u001b[1m1/1\u001b[0m \u001b[32m━━━━━━━━━━━━━━━━━━━━\u001b[0m\u001b[37m\u001b[0m \u001b[1m0s\u001b[0m 46ms/step - accuracy: 1.0000 - loss: 0.6093\n",
            "Epoch 7/10\n",
            "\u001b[1m1/1\u001b[0m \u001b[32m━━━━━━━━━━━━━━━━━━━━\u001b[0m\u001b[37m\u001b[0m \u001b[1m0s\u001b[0m 46ms/step - accuracy: 1.0000 - loss: 0.5895\n",
            "Epoch 8/10\n",
            "\u001b[1m1/1\u001b[0m \u001b[32m━━━━━━━━━━━━━━━━━━━━\u001b[0m\u001b[37m\u001b[0m \u001b[1m0s\u001b[0m 44ms/step - accuracy: 1.0000 - loss: 0.5683\n",
            "Epoch 9/10\n",
            "\u001b[1m1/1\u001b[0m \u001b[32m━━━━━━━━━━━━━━━━━━━━\u001b[0m\u001b[37m\u001b[0m \u001b[1m0s\u001b[0m 45ms/step - accuracy: 1.0000 - loss: 0.5454\n",
            "Epoch 10/10\n",
            "\u001b[1m1/1\u001b[0m \u001b[32m━━━━━━━━━━━━━━━━━━━━\u001b[0m\u001b[37m\u001b[0m \u001b[1m0s\u001b[0m 44ms/step - accuracy: 1.0000 - loss: 0.5206\n",
            "\u001b[1m1/1\u001b[0m \u001b[32m━━━━━━━━━━━━━━━━━━━━\u001b[0m\u001b[37m\u001b[0m \u001b[1m0s\u001b[0m 148ms/step\n",
            "Review: I really enjoyed this movie, it was amazing!\n",
            "Predicted Sentiment: Negative 😠\n",
            "\n",
            "Review: The product broke after one day, terrible quality.\n",
            "Predicted Sentiment: Positive 😀\n",
            "\n",
            "Review: It’s okay, not the best but not the worst.\n",
            "Predicted Sentiment: Positive 😀\n",
            "\n"
          ]
        }
      ],
      "source": [
        "# Step 1: Import libraries\n",
        "import numpy as np\n",
        "from tensorflow.keras.preprocessing.text import Tokenizer\n",
        "from tensorflow.keras.preprocessing.sequence import pad_sequences\n",
        "from tensorflow.keras.models import Sequential\n",
        "from tensorflow.keras.layers import Embedding, SimpleRNN, Dense\n",
        "\n",
        "# Step 2: Create a small dataset (10–20 sentences)\n",
        "reviews = [\n",
        "    \"I love this movie, it was fantastic and full of fun!\",\n",
        "    \"Absolutely terrible, I hated every moment of it.\",\n",
        "    \"The product is great and works perfectly.\",\n",
        "    \"Worst purchase ever, completely useless.\",\n",
        "    \"What a wonderful experience, highly recommend it!\",\n",
        "    \"Not good at all, I want a refund.\",\n",
        "    \"Amazing performance by the actors!\",\n",
        "    \"The quality is bad and disappointing.\",\n",
        "    \"Loved it! Will buy again.\",\n",
        "    \"Horrible, waste of time and money.\"\n",
        "]\n",
        "\n",
        "# Labels: 1 = positive, 0 = negative\n",
        "labels = np.array([1, 0, 1, 0, 1, 0, 1, 0, 1, 0])\n",
        "\n",
        "# Step 3: Tokenize the text\n",
        "tokenizer = Tokenizer(num_words=1000, oov_token=\"<OOV>\")\n",
        "tokenizer.fit_on_texts(reviews)\n",
        "sequences = tokenizer.texts_to_sequences(reviews)\n",
        "\n",
        "# Step 4: Pad the sequences to make them the same length\n",
        "padded = pad_sequences(sequences, maxlen=15, padding='post')\n",
        "\n",
        "# Step 5: Build the RNN model\n",
        "model = Sequential([\n",
        "    Embedding(input_dim=1000, output_dim=16, input_length=15),\n",
        "    SimpleRNN(32, activation='tanh'),\n",
        "    Dense(1, activation='sigmoid')\n",
        "])\n",
        "\n",
        "# Step 6: Compile the model\n",
        "model.compile(loss='binary_crossentropy', optimizer='adam', metrics=['accuracy'])\n",
        "\n",
        "# Step 7: Train the model\n",
        "model.fit(padded, labels, epochs=10, verbose=1)\n",
        "\n",
        "# Step 8: Test on new reviews\n",
        "new_reviews = [\n",
        "    \"I really enjoyed this movie, it was amazing!\",\n",
        "    \"The product broke after one day, terrible quality.\",\n",
        "    \"It’s okay, not the best but not the worst.\"\n",
        "]\n",
        "\n",
        "# Convert new reviews to padded sequences\n",
        "new_seq = tokenizer.texts_to_sequences(new_reviews)\n",
        "new_padded = pad_sequences(new_seq, maxlen=15, padding='post')\n",
        "\n",
        "# Step 9: Predict sentiment\n",
        "predictions = model.predict(new_padded)\n",
        "\n",
        "# Step 10: Print results\n",
        "for review, pred in zip(new_reviews, predictions):\n",
        "    sentiment = \"Positive 😀\" if pred > 0.5 else \"Negative 😠\"\n",
        "    print(f\"Review: {review}\\nPredicted Sentiment: {sentiment}\\n\")\n"
      ]
    },
    {
      "cell_type": "code",
      "source": [
        "# Step 1: Import libraries\n",
        "import numpy as np\n",
        "from tensorflow.keras.models import Sequential\n",
        "from tensorflow.keras.layers import SimpleRNN, Dense\n",
        "\n",
        "#Step 2: Generate random binary sequences (length = 5)\n",
        "num_samples = 1000\n",
        "seq_length = 5\n",
        "\n",
        "# Generate sequences of 0s and 1s\n",
        "X = np.random.randint(2, size=(num_samples, seq_length))\n",
        "\n",
        "# Step 3: Define labels (1 if more 1s, else 0)\n",
        "y = np.array([np.sum(seq) for seq in X])\n",
        "y = np.where(y > 2, 1, 0)\n",
        "\n",
        "# Step 4: Reshape data for RNN (samples, timesteps, features)\n",
        "X = X.reshape((num_samples, seq_length, 1))\n",
        "\n",
        "# Step 5: Build RNN model\n",
        "model = Sequential()\n",
        "model.add(SimpleRNN(50, input_shape=(seq_length, 1)))\n",
        "model.add(Dense(1, activation='sigmoid'))\n",
        "\n",
        "# Step 6: Compile the model\n",
        "model.compile(loss='binary_crossentropy', optimizer='adam', metrics=['accuracy'])\n",
        "\n",
        "# Step 7: Train the model\n",
        "model.fit(X, y, epochs=05, verbose=1)\n",
        "\n",
        "# Step 8: Test on new sequences\n",
        "new_sequences = np.random.randint(2, size=(3, seq_length))\n",
        "new_sequences = new_sequences.reshape((3, seq_length, 1))\n",
        "\n",
        "# Step 9: Predict sentiment\n",
        "predictions = model.predict(new_sequences)\n",
        "\n",
        "# Step 10: Print results\n",
        "for seq, pred in zip(new_sequences, predictions):\n",
        "    sentiment = \"Positive 😀\" if pred > 0.5 else \"Negative 😠\"\n",
        "    print(f\"Sequence: {seq.flatten()}, Predicted Sentiment: {sentiment}\\n\")\n"
      ],
      "metadata": {
        "colab": {
          "base_uri": "https://localhost:8080/",
          "height": 106
        },
        "id": "gI5yh1rxzuGL",
        "outputId": "5ed381b0-5de4-405f-9549-f9d063128e7c"
      },
      "execution_count": null,
      "outputs": [
        {
          "output_type": "error",
          "ename": "SyntaxError",
          "evalue": "leading zeros in decimal integer literals are not permitted; use an 0o prefix for octal integers (ipython-input-3390693188.py, line 29)",
          "traceback": [
            "\u001b[0;36m  File \u001b[0;32m\"/tmp/ipython-input-3390693188.py\"\u001b[0;36m, line \u001b[0;32m29\u001b[0m\n\u001b[0;31m    model.fit(X, y, epochs=05, verbose=1)\u001b[0m\n\u001b[0m                           ^\u001b[0m\n\u001b[0;31mSyntaxError\u001b[0m\u001b[0;31m:\u001b[0m leading zeros in decimal integer literals are not permitted; use an 0o prefix for octal integers\n"
          ]
        }
      ]
    }
  ]
}