{
  "nbformat": 4,
  "nbformat_minor": 0,
  "metadata": {
    "colab": {
      "provenance": [],
      "authorship_tag": "ABX9TyOvAWdkOJ2PSFYY+gITy8w8",
      "include_colab_link": true
    },
    "kernelspec": {
      "name": "python3",
      "display_name": "Python 3"
    },
    "language_info": {
      "name": "python"
    }
  },
  "cells": [
    {
      "cell_type": "markdown",
      "metadata": {
        "id": "view-in-github",
        "colab_type": "text"
      },
      "source": [
        "<a href=\"https://colab.research.google.com/github/sidraijazctn-cyber/Python_project/blob/main/assingment_2.ipynb\" target=\"_parent\"><img src=\"https://colab.research.google.com/assets/colab-badge.svg\" alt=\"Open In Colab\"/></a>"
      ]
    },
    {
      "cell_type": "code",
      "execution_count": null,
      "metadata": {
        "colab": {
          "base_uri": "https://localhost:8080/",
          "height": 106
        },
        "id": "rhDDSACQPDh4",
        "outputId": "e9472010-48b7-4e5d-f8b0-a89786902058"
      },
      "outputs": [
        {
          "output_type": "error",
          "ename": "SyntaxError",
          "evalue": "invalid syntax (ipython-input-2750551360.py, line 1)",
          "traceback": [
            "\u001b[0;36m  File \u001b[0;32m\"/tmp/ipython-input-2750551360.py\"\u001b[0;36m, line \u001b[0;32m1\u001b[0m\n\u001b[0;31m    calculate_area(length, width):# Function to calculate the area of a rectangle\u001b[0m\n\u001b[0m                                 ^\u001b[0m\n\u001b[0;31mSyntaxError\u001b[0m\u001b[0;31m:\u001b[0m invalid syntax\n"
          ]
        }
      ],
      "source": [
        "calculate_area(length, width):# Function to calculate the area of a rectangle\n",
        "  area = length * width\n",
        "\n",
        "# Get the dimensions of the first rectangle from the user\n",
        "length1 = int(input(\"Enter the length of the first rectangle: \"))\n",
        "width1 = int(input(\"Enter the width of the first rectangle: \"))\n",
        "\n",
        "# Get the dimensions of the second rectangle from the user\n",
        "length2 = int(input(\"Enter the length of the second rectangle: \"))\n",
        "width2 = int(input(\"Enter the width of the second rectangle: \"))\n",
        "\n",
        "# Calculate the areas of both rectangles\n",
        "area1 = calculate_area(length1, width1)\n",
        "area2 = calculate_area(length2, width2)\n",
        "\n",
        "# Compare the areas and display the result\n",
        "if area1 > area2:\n",
        "    print(f\"The first rectangle has a larger area: {area1}\")\n",
        "elif area1 < area2:\n",
        "    print(f\"The second rectangle has a larger area: {area2}\")\n",
        "else:\n",
        "    print(f\"Both rectangles have the same area: () \")\n"
      ]
    },
    {
      "cell_type": "code",
      "source": [
        "salary = int(input(\"Enter your salary:\"))\n",
        "\n",
        "if salary >= 100000:\n",
        "  tax = salary * 0.20\n",
        "elif salary >=  50001:\n",
        "  tax = salary * 0.10\n",
        "else :\n",
        "  tax = salary * .05\n",
        "salary_after_tax = salary - tax\n",
        "\n",
        "print(f\"income_tax: {tax}\")\n",
        "print(f\"income:{salary_after_tax}\")\n",
        "\n",
        "\n"
      ],
      "metadata": {
        "colab": {
          "base_uri": "https://localhost:8080/"
        },
        "id": "9kZUoaDlRXwW",
        "outputId": "eb7bd871-fdb8-4100-d7ff-7f0bd85fda71"
      },
      "execution_count": null,
      "outputs": [
        {
          "output_type": "stream",
          "name": "stdout",
          "text": [
            "Enter your salary:500076\n",
            "income_tax: 100015.20000000001\n",
            "income:400060.8\n"
          ]
        }
      ]
    },
    {
      "cell_type": "code",
      "source": [
        "number =  int(input(\"Enter a number:\"))\n",
        "\n",
        "if number > 0:\n",
        "  sign = \"positive\"\n",
        "elif number < 0:\n",
        "  sign = \"negative\"\n",
        "else:\n",
        "  sign = \"zero\"\n",
        "\n",
        "if number % 2 == 0:\n",
        "   number = \"even\"\n",
        "else:\n",
        "    number = \"odd\"\n",
        "\n",
        "print(f\"The number is{parity} and {sign}:\")\n",
        "\n"
      ],
      "metadata": {
        "colab": {
          "base_uri": "https://localhost:8080/",
          "height": 211
        },
        "collapsed": true,
        "id": "m8Cfx21gYnp9",
        "outputId": "a84d0e41-3765-478f-90c7-a9a216b4001d"
      },
      "execution_count": null,
      "outputs": [
        {
          "name": "stdout",
          "output_type": "stream",
          "text": [
            "Enter a number:4\n"
          ]
        },
        {
          "output_type": "error",
          "ename": "NameError",
          "evalue": "name 'parity' is not defined",
          "traceback": [
            "\u001b[0;31m---------------------------------------------------------------------------\u001b[0m",
            "\u001b[0;31mNameError\u001b[0m                                 Traceback (most recent call last)",
            "\u001b[0;32m/tmp/ipython-input-1927075265.py\u001b[0m in \u001b[0;36m<cell line: 0>\u001b[0;34m()\u001b[0m\n\u001b[1;32m     13\u001b[0m     \u001b[0mnumber\u001b[0m \u001b[0;34m=\u001b[0m \u001b[0;34m\"odd\"\u001b[0m\u001b[0;34m\u001b[0m\u001b[0;34m\u001b[0m\u001b[0m\n\u001b[1;32m     14\u001b[0m \u001b[0;34m\u001b[0m\u001b[0m\n\u001b[0;32m---> 15\u001b[0;31m \u001b[0mprint\u001b[0m\u001b[0;34m(\u001b[0m\u001b[0;34mf\"The number is{parity} and {sign}:\"\u001b[0m\u001b[0;34m)\u001b[0m\u001b[0;34m\u001b[0m\u001b[0;34m\u001b[0m\u001b[0m\n\u001b[0m\u001b[1;32m     16\u001b[0m \u001b[0;34m\u001b[0m\u001b[0m\n",
            "\u001b[0;31mNameError\u001b[0m: name 'parity' is not defined"
          ]
        }
      ]
    },
    {
      "cell_type": "code",
      "source": [
        "num1 = int(input(\"Enter the first number\"))\n",
        "num2 = int(input(\"Enter the second number\"))\n",
        "num3 = int(input(\"Enter the third number\"))\n",
        "\n",
        "s1mallest = min(num1 ,num2, num3)\n",
        "greater = max(num1 ,num2, num3)\n",
        "\n",
        "print(f\"The greater number is: {greater}\")\n",
        "print(f\"The smallest number is: {smallest}\")"
      ],
      "metadata": {
        "colab": {
          "base_uri": "https://localhost:8080/"
        },
        "id": "DHtGYKC2D99v",
        "outputId": "d6fd9bb4-805c-4955-9c96-ad8d14cdbc4f"
      },
      "execution_count": null,
      "outputs": [
        {
          "output_type": "stream",
          "name": "stdout",
          "text": [
            "Enter the first number14\n",
            "Enter the second number5\n",
            "Enter the third number11\n",
            "The greater number is: 14\n",
            "The smallest number is: 5\n"
          ]
        }
      ]
    }
  ]
}