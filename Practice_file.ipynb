{
  "nbformat": 4,
  "nbformat_minor": 0,
  "metadata": {
    "colab": {
      "provenance": [],
      "authorship_tag": "ABX9TyPQuo891nKy5323ZWRjHAvp",
      "include_colab_link": true
    },
    "kernelspec": {
      "name": "python3",
      "display_name": "Python 3"
    },
    "language_info": {
      "name": "python"
    }
  },
  "cells": [
    {
      "cell_type": "markdown",
      "metadata": {
        "id": "view-in-github",
        "colab_type": "text"
      },
      "source": [
        "<a href=\"https://colab.research.google.com/github/sidraijazctn-cyber/Python_project/blob/main/Practice_file.ipynb\" target=\"_parent\"><img src=\"https://colab.research.google.com/assets/colab-badge.svg\" alt=\"Open In Colab\"/></a>"
      ]
    },
    {
      "cell_type": "code",
      "execution_count": null,
      "metadata": {
        "colab": {
          "base_uri": "https://localhost:8080/"
        },
        "id": "Z6xBh0RAwWUy",
        "outputId": "1e020dbc-949f-40e4-c751-5d40607515bd"
      },
      "outputs": [
        {
          "output_type": "stream",
          "name": "stdout",
          "text": [
            "Helo world\n"
          ]
        }
      ],
      "source": [
        "#Helo word\n",
        "print(\"Helo world\")"
      ]
    },
    {
      "cell_type": "code",
      "source": [
        "#Add two numbers\n",
        "a = 27\n",
        "b = 56\n",
        "sum = a + b\n",
        "print(\"The sum is:\",sum)"
      ],
      "metadata": {
        "colab": {
          "base_uri": "https://localhost:8080/"
        },
        "id": "f0C2-UcU03KM",
        "outputId": "a6e640ab-e3b2-480f-d2ce-1c1d403f9dc6"
      },
      "execution_count": null,
      "outputs": [
        {
          "output_type": "stream",
          "name": "stdout",
          "text": [
            "The sum is: 83\n"
          ]
        }
      ]
    },
    {
      "cell_type": "code",
      "source": [
        "# If-else (Decsion making)\n",
        "age = 15\n",
        "if age >= 18:\n",
        "  print(\"You are adult\")\n",
        "else:\n",
        "  print(\"You are not adult\")"
      ],
      "metadata": {
        "colab": {
          "base_uri": "https://localhost:8080/"
        },
        "id": "Igpf17cz2gD5",
        "outputId": "e2c0826d-9661-46a2-e85f-c8b8ec26d8b5"
      },
      "execution_count": null,
      "outputs": [
        {
          "output_type": "stream",
          "name": "stdout",
          "text": [
            "You are not adult\n"
          ]
        }
      ]
    },
    {
      "cell_type": "code",
      "source": [
        "#Loop through numbers\n",
        "for i in range(1, 6):\n",
        "  print(\"Number:\", i)\n",
        "\n"
      ],
      "metadata": {
        "id": "x01DoLmxMY0h",
        "colab": {
          "base_uri": "https://localhost:8080/"
        },
        "outputId": "d95d2a3d-98ac-4fc3-ef89-4e09d04a9dbd"
      },
      "execution_count": null,
      "outputs": [
        {
          "output_type": "stream",
          "name": "stdout",
          "text": [
            "Number: 1\n",
            "Number: 2\n",
            "Number: 3\n",
            "Number: 4\n",
            "Number: 5\n"
          ]
        }
      ]
    },
    {
      "cell_type": "code",
      "source": [
        "#Loop through numbers\n",
        "for i in range(1, 6):\n",
        "  print(\"Number:\", i-1)\n"
      ],
      "metadata": {
        "colab": {
          "base_uri": "https://localhost:8080/"
        },
        "id": "-IXMi1deQupE",
        "outputId": "41cecd0f-ff27-442c-ad61-64664da1821c"
      },
      "execution_count": null,
      "outputs": [
        {
          "output_type": "stream",
          "name": "stdout",
          "text": [
            "Number: 0\n",
            "Number: 1\n",
            "Number: 2\n",
            "Number: 3\n",
            "Number: 4\n"
          ]
        }
      ]
    },
    {
      "cell_type": "code",
      "source": [
        "#while loop (runs until condition is false)\n",
        "i = 0\n",
        "while i <= 7:\n",
        "  print(\"Number:\", i)\n",
        "  i += 1"
      ],
      "metadata": {
        "colab": {
          "base_uri": "https://localhost:8080/"
        },
        "id": "93provV-HYBI",
        "outputId": "6519f834-631e-4775-8043-216e4af012d1",
        "collapsed": true
      },
      "execution_count": null,
      "outputs": [
        {
          "output_type": "stream",
          "name": "stdout",
          "text": [
            "Number: 0\n",
            "Number: 1\n",
            "Number: 2\n",
            "Number: 3\n",
            "Number: 4\n",
            "Number: 5\n",
            "Number: 6\n",
            "Number: 7\n"
          ]
        }
      ]
    },
    {
      "cell_type": "code",
      "source": [
        "# print your name\n",
        "\n",
        "name = string(input(\"Enter your name\" ))\n",
        "print(\"Your name is:\", name)"
      ],
      "metadata": {
        "id": "OWvotYBEIfPy",
        "colab": {
          "base_uri": "https://localhost:8080/",
          "height": 193
        },
        "outputId": "21316648-9bc6-4f24-fa96-9ab9e9d7d8c2"
      },
      "execution_count": null,
      "outputs": [
        {
          "output_type": "error",
          "ename": "NameError",
          "evalue": "name 'string' is not defined",
          "traceback": [
            "\u001b[0;31m---------------------------------------------------------------------------\u001b[0m",
            "\u001b[0;31mNameError\u001b[0m                                 Traceback (most recent call last)",
            "\u001b[0;32m/tmp/ipython-input-370030949.py\u001b[0m in \u001b[0;36m<cell line: 0>\u001b[0;34m()\u001b[0m\n\u001b[1;32m      1\u001b[0m \u001b[0;31m# print your name\u001b[0m\u001b[0;34m\u001b[0m\u001b[0;34m\u001b[0m\u001b[0m\n\u001b[1;32m      2\u001b[0m \u001b[0;34m\u001b[0m\u001b[0m\n\u001b[0;32m----> 3\u001b[0;31m \u001b[0mname\u001b[0m \u001b[0;34m=\u001b[0m \u001b[0mstring\u001b[0m\u001b[0;34m(\u001b[0m\u001b[0minput\u001b[0m\u001b[0;34m(\u001b[0m\u001b[0;34m\"Enter your name\"\u001b[0m \u001b[0;34m)\u001b[0m\u001b[0;34m)\u001b[0m\u001b[0;34m\u001b[0m\u001b[0;34m\u001b[0m\u001b[0m\n\u001b[0m\u001b[1;32m      4\u001b[0m \u001b[0mprint\u001b[0m\u001b[0;34m(\u001b[0m\u001b[0;34m\"Your name is:\"\u001b[0m\u001b[0;34m,\u001b[0m \u001b[0mname\u001b[0m\u001b[0;34m)\u001b[0m\u001b[0;34m\u001b[0m\u001b[0;34m\u001b[0m\u001b[0m\n",
            "\u001b[0;31mNameError\u001b[0m: name 'string' is not defined"
          ]
        }
      ]
    },
    {
      "cell_type": "code",
      "source": [
        "#print my name\n",
        "name = input(\"Enter your name\" )\n",
        "print(\"Your name is:\", name)"
      ],
      "metadata": {
        "colab": {
          "base_uri": "https://localhost:8080/"
        },
        "id": "zlx1GnfzJOcg",
        "outputId": "43acb63a-720a-4f15-bdcf-ad6a0ddc0444"
      },
      "execution_count": null,
      "outputs": [
        {
          "output_type": "stream",
          "name": "stdout",
          "text": [
            "Enter your nameSidra\n",
            "Your name is: Sidra\n"
          ]
        }
      ]
    },
    {
      "cell_type": "code",
      "source": [
        "#Print your name and age in the same line\n",
        "name = input(\"Enter your name\" )\n",
        "age = input(\"Enter your age\" )\n",
        "print(\"Your name is:\", name, \"and your age is:\", age)"
      ],
      "metadata": {
        "colab": {
          "base_uri": "https://localhost:8080/"
        },
        "id": "XtodZT8VKI9W",
        "outputId": "cb925f1b-990a-4077-bbfd-bce99cc2af51"
      },
      "execution_count": null,
      "outputs": [
        {
          "output_type": "stream",
          "name": "stdout",
          "text": [
            "Enter your nameSidra\n",
            "Enter your age22\n",
            "Your name is: Sidra and your age is: 22\n"
          ]
        }
      ]
    },
    {
      "cell_type": "code",
      "source": [
        "#print your name and age in the same line\n",
        "name = \"Sidra\"\n",
        "age = 22\n",
        "print(\"My name is:\", name, \"and my age is:\", age)"
      ],
      "metadata": {
        "colab": {
          "base_uri": "https://localhost:8080/"
        },
        "id": "FuhXLojqK119",
        "outputId": "33196261-8b5f-40d2-91d5-0d19e49b1734"
      },
      "execution_count": null,
      "outputs": [
        {
          "output_type": "stream",
          "name": "stdout",
          "text": [
            "My name is: Sidra and my age is: 22\n"
          ]
        }
      ]
    },
    {
      "cell_type": "code",
      "source": [
        "#Take input from user: name → print \"Hello, <name>\"\n",
        "name = input(\"Enter your name\")\n",
        "print(\"Hello:\", name)"
      ],
      "metadata": {
        "id": "xwtwTh4xLgLo",
        "colab": {
          "base_uri": "https://localhost:8080/"
        },
        "outputId": "f8622548-54d4-4fef-9348-a96968b4829e"
      },
      "execution_count": null,
      "outputs": [
        {
          "output_type": "stream",
          "name": "stdout",
          "text": [
            "Enter your nameSidra\n",
            "Hello: Sidra\n"
          ]
        }
      ]
    },
    {
      "cell_type": "code",
      "source": [
        "#Take two numbers as input and print their sum\n",
        "num1 = int(input(\"Enter first number\"))\n",
        "num2 = int(input(\"Enter second number\"))\n",
        "sum = num1 + num2\n",
        "print(\"Their sum is:\", sum)"
      ],
      "metadata": {
        "colab": {
          "base_uri": "https://localhost:8080/"
        },
        "id": "OWtRx-6Op4WU",
        "outputId": "53a49b29-b58c-41f2-ea3b-1a6e9294ed5e"
      },
      "execution_count": null,
      "outputs": [
        {
          "output_type": "stream",
          "name": "stdout",
          "text": [
            "Enter first number23\n",
            "Enter second number45\n",
            "Their sum is: 68\n"
          ]
        }
      ]
    },
    {
      "cell_type": "code",
      "source": [
        "#Alternative\n",
        "#Take two numbers as input and print their sum\n",
        "num1 = int(input(\"Enter first number\"))\n",
        "num2 = int(input(\"Enter second number\"))\n",
        "print(\"Their sum is:\", num1 + num2)"
      ],
      "metadata": {
        "colab": {
          "base_uri": "https://localhost:8080/"
        },
        "id": "3Wvk0UUBqsZe",
        "outputId": "4f284b8d-da22-42fc-cbc4-f1c65575d6cd"
      },
      "execution_count": null,
      "outputs": [
        {
          "output_type": "stream",
          "name": "stdout",
          "text": [
            "Enter first number23 \n",
            "Enter second number  45\n",
            "Their sum is: 68\n"
          ]
        }
      ]
    },
    {
      "cell_type": "code",
      "source": [
        "#Take input for a number and print its square\n",
        "num = int(input(\"Enter a number\"))\n",
        "print(\"The square of the number is:\", num*num)"
      ],
      "metadata": {
        "colab": {
          "base_uri": "https://localhost:8080/"
        },
        "id": "17cuFnhfq8eh",
        "outputId": "d9942c2b-ce4a-4cc5-db80-9e8042f32dd0"
      },
      "execution_count": null,
      "outputs": [
        {
          "output_type": "stream",
          "name": "stdout",
          "text": [
            "Enter a number  8\n",
            "The square of the number is: 64\n"
          ]
        }
      ]
    },
    {
      "cell_type": "code",
      "source": [
        "#Alternate\n",
        "#Take input for a number and print its square\n",
        "num = int(input(\"Enter a number\"))\n",
        "print(\"The square of the number is:\", num**2)\n"
      ],
      "metadata": {
        "colab": {
          "base_uri": "https://localhost:8080/"
        },
        "id": "6mi46hbHrpUd",
        "outputId": "f7e5e950-5181-47b7-ac95-a46fac991ecf"
      },
      "execution_count": null,
      "outputs": [
        {
          "output_type": "stream",
          "name": "stdout",
          "text": [
            "Enter a number   8\n",
            "The square of the number is: 64\n"
          ]
        }
      ]
    },
    {
      "cell_type": "code",
      "source": [
        "#Store your name, age, and grade in variables → print them\n",
        "name = \"Sidra\"\n",
        "age = 22\n",
        "grade = \"A\"\n",
        "print(\"My name is:\", name, \"and my age is:\", age, \"having grade:\", grade)"
      ],
      "metadata": {
        "colab": {
          "base_uri": "https://localhost:8080/"
        },
        "id": "pMVyf42GsBJq",
        "outputId": "3e1de5c1-4457-4bbd-c51b-c235ae8d8200"
      },
      "execution_count": null,
      "outputs": [
        {
          "output_type": "stream",
          "name": "stdout",
          "text": [
            "My name is: Sidra and my age is: 22 having grade: A\n"
          ]
        }
      ]
    },
    {
      "cell_type": "code",
      "source": [
        "#Assign two variables: x = 10, y = 5 → print addition, subtraction, multiplication, division\n",
        "x = 10\n",
        "y = 5\n",
        "\n",
        "#Operations\n",
        "Addition = x+y\n",
        "Subtraction = x-y\n",
        "Multplication = x*y\n",
        "Division = x/y\n",
        "\n",
        "print(\"Addition:\", Addition)\n",
        "print(\"Subtraction:\", Subtraction)\n",
        "print(\"Multiplication:\", Multplication)\n",
        "print(\"Division:\", Division)\n"
      ],
      "metadata": {
        "colab": {
          "base_uri": "https://localhost:8080/"
        },
        "id": "6gEJI6XbS9rc",
        "outputId": "1f5fdaa6-43bb-49d1-a37c-fd12424dbd15"
      },
      "execution_count": null,
      "outputs": [
        {
          "output_type": "stream",
          "name": "stdout",
          "text": [
            "Addition: 15\n",
            "Subtraction: 5\n",
            "Multiplication: 50\n",
            "Division: 2.0\n"
          ]
        }
      ]
    },
    {
      "cell_type": "code",
      "source": [
        "#Assign two variables: x = 10, y = 5 → print addition, subtraction, multiplication, division\n",
        "x = 10\n",
        "y = 5\n",
        "\n",
        "#Operations\n",
        "print(\"Addition:\", x+y)\n",
        "print(\"Subtraction:\", x-y)\n",
        "print(\"Multiplication:\", x*y)\n",
        "print(\"Division:\", x/y)"
      ],
      "metadata": {
        "colab": {
          "base_uri": "https://localhost:8080/"
        },
        "id": "OtsaH7qBVdbr",
        "outputId": "369fec64-1b7e-4d6d-81a0-f0ba6d6b529d"
      },
      "execution_count": null,
      "outputs": [
        {
          "output_type": "stream",
          "name": "stdout",
          "text": [
            "Addition: 15\n",
            "Subtraction: 5\n",
            "Multiplication: 50\n",
            "Division: 2.0\n"
          ]
        }
      ]
    },
    {
      "cell_type": "code",
      "source": [
        "#Convert a string \"100\" into integer and add 50\n",
        "num = \"100\"    #String\n",
        "num = int(num)   #Convert into integer\n",
        "result = num + 50\n",
        "print(\"Result:\", result)"
      ],
      "metadata": {
        "colab": {
          "base_uri": "https://localhost:8080/"
        },
        "id": "W70H_RbcVzk9",
        "outputId": "36401d33-5891-46c0-e99f-6098fdc72473"
      },
      "execution_count": null,
      "outputs": [
        {
          "output_type": "stream",
          "name": "stdout",
          "text": [
            "Result: 150\n"
          ]
        }
      ]
    },
    {
      "cell_type": "code",
      "source": [
        "#Convert a string \"100\" into integer and add 50\n",
        "num = \"100\"    #String\n",
        "num = int(num)   #Convert into integer\n",
        "result = num + 50\n",
        "print(result)"
      ],
      "metadata": {
        "colab": {
          "base_uri": "https://localhost:8080/"
        },
        "id": "Pj2p7FR0XASo",
        "outputId": "c1d0d338-5858-453b-f7b5-3763976ae9b8"
      },
      "execution_count": null,
      "outputs": [
        {
          "output_type": "stream",
          "name": "stdout",
          "text": [
            "150\n"
          ]
        }
      ]
    },
    {
      "cell_type": "code",
      "source": [
        "#Take user input for a decimal number and print its type\n",
        "num = float(input(\"Enter a decimal number\"))\n",
        "print(\"The type of the number is:\", type(num))"
      ],
      "metadata": {
        "colab": {
          "base_uri": "https://localhost:8080/"
        },
        "id": "pZqZoVr5XHvu",
        "outputId": "7bea33d2-1f35-4f1e-8df4-4298b18055b0"
      },
      "execution_count": null,
      "outputs": [
        {
          "output_type": "stream",
          "name": "stdout",
          "text": [
            "Enter a decimal number6.8\n",
            "The type of the number is: <class 'float'>\n"
          ]
        }
      ]
    },
    {
      "cell_type": "code",
      "source": [
        "#Swap values of two variables (a = 5, b = 10)\n",
        "a = 5\n",
        "b = 10\n",
        "\n",
        "#swappind values with temp(temporary) variables\n",
        "temp = a\n",
        "a = b\n",
        "b = temp\n",
        "\n",
        "print(\"After swapping:\")\n",
        "print(\"a =\", a)\n",
        "print(\"b =\", b)\n"
      ],
      "metadata": {
        "colab": {
          "base_uri": "https://localhost:8080/"
        },
        "id": "E445YJ4EYQie",
        "outputId": "1436cdf7-5d4e-4ea8-dd5e-1b39aff958b9"
      },
      "execution_count": null,
      "outputs": [
        {
          "output_type": "stream",
          "name": "stdout",
          "text": [
            "After swapping:\n",
            "a = 10\n",
            "b = 5\n"
          ]
        }
      ]
    },
    {
      "cell_type": "code",
      "source": [
        "#Swap values of two variables (a = 5, b = 10)\n",
        "a = 5\n",
        "b = 10\n",
        "\n",
        "#snaping\n",
        "a , b = b , a\n",
        "\n",
        "print(\"After swapping:\")\n",
        "print(\"a =\", a)\n",
        "print(\"b =\", b)\n"
      ],
      "metadata": {
        "colab": {
          "base_uri": "https://localhost:8080/"
        },
        "id": "J4lvbmikm0oz",
        "outputId": "b9223c38-1f66-4d01-dab9-837028e65bf4"
      },
      "execution_count": null,
      "outputs": [
        {
          "output_type": "stream",
          "name": "stdout",
          "text": [
            "After swapping:\n",
            "a = 10\n",
            "b = 5\n"
          ]
        }
      ]
    },
    {
      "cell_type": "code",
      "source": [
        "#Check remainder when 17 is divided by 3\n",
        "num = 17\n",
        "divisor = 3\n",
        "raminder = num % divisor\n",
        "print(\"Remainder when 17 is divided by 3:\", raminder)"
      ],
      "metadata": {
        "colab": {
          "base_uri": "https://localhost:8080/"
        },
        "id": "O6iBFnH2nRzG",
        "outputId": "fbd8deb4-404b-4696-c5c7-c4358780ef88"
      },
      "execution_count": null,
      "outputs": [
        {
          "output_type": "stream",
          "name": "stdout",
          "text": [
            "Remainder when 17 is divided by 3: 2\n"
          ]
        }
      ]
    },
    {
      "cell_type": "code",
      "source": [
        "#Print result of 5 ** 3 (power operator)\n",
        "num = 5\n",
        "exponent = 3\n",
        "result = num ** exponent\n",
        "print(\"Result of 5 ** 3:\", result)"
      ],
      "metadata": {
        "colab": {
          "base_uri": "https://localhost:8080/"
        },
        "id": "hVBWenRfpaX6",
        "outputId": "c4e48233-7a66-44e6-fa44-defc6b451474"
      },
      "execution_count": null,
      "outputs": [
        {
          "output_type": "stream",
          "name": "stdout",
          "text": [
            "Result of 5 ** 3: 125\n"
          ]
        }
      ]
    },
    {
      "cell_type": "code",
      "source": [
        "#Use floor division (//) → divide 17 by 3\n",
        "print(\"Floor division:\", 17//2)"
      ],
      "metadata": {
        "colab": {
          "base_uri": "https://localhost:8080/"
        },
        "id": "eZ_OPqOtpz_M",
        "outputId": "5eeb7369-d761-4b54-ccfe-75e5c22aa57a"
      },
      "execution_count": null,
      "outputs": [
        {
          "output_type": "stream",
          "name": "stdout",
          "text": [
            "Floor division: 8\n"
          ]
        }
      ]
    },
    {
      "cell_type": "code",
      "source": [
        "#Write a program that takes 3 numbers and finds their average\n",
        "num1 = int(input(\"Enter first number\"))\n",
        "num2 = int(input(\"Enter second number\"))\n",
        "num3 = int(input(\"Enter third number\"))\n",
        "average = (num1 + num2 + num3) / 3\n",
        "\n",
        "print(\"The average of num1, num2, num3 is:\", average)"
      ],
      "metadata": {
        "colab": {
          "base_uri": "https://localhost:8080/"
        },
        "id": "LR0_wMBrqPWY",
        "outputId": "7ed7a7a4-1323-4537-a3e5-9a90595ae1aa"
      },
      "execution_count": null,
      "outputs": [
        {
          "output_type": "stream",
          "name": "stdout",
          "text": [
            "Enter first number44\n",
            "Enter second number66\n",
            "Enter third number84\n",
            "The average of num1, num2, num3 is: 64.66666666666667\n"
          ]
        }
      ]
    },
    {
      "cell_type": "code",
      "source": [
        "#Write a program that takes your age and tells how many years are left to reach 100\n",
        "age = int(input(\"Enter your age\"))\n",
        "years_left = 100 - age\n",
        "print(\"Years left to reach 100:\", years_left)"
      ],
      "metadata": {
        "colab": {
          "base_uri": "https://localhost:8080/"
        },
        "id": "4bL25zbpq6Pv",
        "outputId": "e49cc8c1-e80e-4346-af1c-8592cfe75621"
      },
      "execution_count": null,
      "outputs": [
        {
          "output_type": "stream",
          "name": "stdout",
          "text": [
            "Enter your age23\n",
            "Years left to reach 100: 77\n"
          ]
        }
      ]
    },
    {
      "cell_type": "code",
      "source": [
        "#Create a variable x = 10 and print its type\n",
        "x = 10\n",
        "print(\"value of variable is:\", x)\n",
        "print(\"Type of x:\", type(x))"
      ],
      "metadata": {
        "colab": {
          "base_uri": "https://localhost:8080/"
        },
        "id": "gEgIP6BMwmQl",
        "outputId": "75aba4e2-ed85-4393-8abd-6329cc4fb39d"
      },
      "execution_count": null,
      "outputs": [
        {
          "output_type": "stream",
          "name": "stdout",
          "text": [
            "value of variable is: 10\n",
            "Type of x: <class 'int'>\n"
          ]
        }
      ]
    },
    {
      "cell_type": "code",
      "source": [
        "#Create variables name = \"Ali\", age = 22, cgpa = 3.5 and print them in one line\n",
        "name = \"Ali\"\n",
        "age = 22\n",
        "cgpa = 3.5\n",
        "print(\"Name:\", name, \"Age:\", age, \"CGPA:\", cgpa)"
      ],
      "metadata": {
        "colab": {
          "base_uri": "https://localhost:8080/"
        },
        "id": "Gz6Ynw_IxPQe",
        "outputId": "4ce47cc8-1f4b-4c8e-f49d-3b3c71c15c24"
      },
      "execution_count": null,
      "outputs": [
        {
          "output_type": "stream",
          "name": "stdout",
          "text": [
            "Name: Ali Age: 22 CGPA: 3.5\n"
          ]
        }
      ]
    },
    {
      "cell_type": "code",
      "source": [
        "#Store a sentence in a string variable and print its length using len()\n",
        "sentence = \"This is a sentence\"\n",
        "print(\"Length of sentence:\", len(sentence))\n"
      ],
      "metadata": {
        "colab": {
          "base_uri": "https://localhost:8080/"
        },
        "id": "QD0VfCdSxyGG",
        "outputId": "5fc49b35-73f4-4963-8980-501e50e5dc46"
      },
      "execution_count": null,
      "outputs": [
        {
          "output_type": "stream",
          "name": "stdout",
          "text": [
            "Length of sentence: 18\n"
          ]
        }
      ]
    },
    {
      "cell_type": "code",
      "source": [
        "#Create a variable with a float value and convert it into an integer using int()\n",
        "float_value = 3.14\n",
        "integer_value = int(float_value)\n",
        "print(\"Float value:\", float_value)\n",
        "print(\"Integer value:\", integer_value)"
      ],
      "metadata": {
        "colab": {
          "base_uri": "https://localhost:8080/"
        },
        "id": "ibnTmJS-yFeJ",
        "outputId": "24615865-5cd0-4f85-d422-edff617a2ece"
      },
      "execution_count": null,
      "outputs": [
        {
          "output_type": "stream",
          "name": "stdout",
          "text": [
            "Float value: 3.14\n",
            "Integer value: 3\n"
          ]
        }
      ]
    },
    {
      "cell_type": "code",
      "source": [
        "#Take a number input and print whether it is even or odd\n",
        "num = int(input(\"Enter a number\"))\n",
        "if num % 2 == 0:\n",
        "  print(\"Even number\")\n",
        "else:\n",
        "  print(\"Odd number\")"
      ],
      "metadata": {
        "colab": {
          "base_uri": "https://localhost:8080/"
        },
        "id": "gYcq2h42yV7B",
        "outputId": "bfa4eae1-003e-4faa-e9ff-47501974a0e2"
      },
      "execution_count": null,
      "outputs": [
        {
          "output_type": "stream",
          "name": "stdout",
          "text": [
            "Enter a number4\n",
            "Even number\n"
          ]
        }
      ]
    },
    {
      "cell_type": "code",
      "source": [
        "#Take two numbers and perform addition, subtraction, multiplication, division\n",
        "num1 = int(input(\"Enter first number\"))\n",
        "num2 = int(input(\"Enter secod number\"))\n",
        "\n",
        "#Operations\n",
        "print(\"Addition:\", num1 + num2)\n",
        "print(\"Multiplication:\", num1 * num2)\n",
        "print(\"Subtraction:\", num1 - num2)\n",
        "print(\"Division:\", num1 / num2)"
      ],
      "metadata": {
        "id": "t5298ka2yl7B",
        "colab": {
          "base_uri": "https://localhost:8080/"
        },
        "outputId": "709d4822-01cb-4c8d-bb55-856e7028de64"
      },
      "execution_count": null,
      "outputs": [
        {
          "output_type": "stream",
          "name": "stdout",
          "text": [
            "Enter first number44\n",
            "Enter secod number4\n",
            "Addition: 48\n",
            "Multiplication: 176\n",
            "Subtraction: 40\n",
            "Division: 11.0\n"
          ]
        }
      ]
    },
    {
      "cell_type": "code",
      "source": [
        "#Find the remainder when 29 is divided by 5\n",
        "num1 = 29\n",
        "divisor = 5\n",
        "remainder = num1 % divisor\n",
        "print(\"Remainder:\", remainder)\n"
      ],
      "metadata": {
        "colab": {
          "base_uri": "https://localhost:8080/"
        },
        "id": "74c6SeQzzSgF",
        "outputId": "cf76a0d2-c75e-48b2-90ad-d791c8766667"
      },
      "execution_count": null,
      "outputs": [
        {
          "output_type": "stream",
          "name": "stdout",
          "text": [
            "Remainder: 4\n"
          ]
        }
      ]
    },
    {
      "cell_type": "code",
      "source": [
        "#Write a program to calculate the square and cube of a number\n",
        "num = int(input(\"Enter a numer\"))\n",
        "square = num ** 2\n",
        "cube = num ** 3\n",
        "\n",
        "#Operations\n",
        "print(\"Square:\", square)\n",
        "print(\"Cube:\", cube)"
      ],
      "metadata": {
        "colab": {
          "base_uri": "https://localhost:8080/"
        },
        "id": "AJ2Bc19_z2X7",
        "outputId": "77f4827c-f09d-49bf-cd38-5bbd444a289d"
      },
      "execution_count": null,
      "outputs": [
        {
          "output_type": "stream",
          "name": "stdout",
          "text": [
            "Enter a numer5\n",
            "Square: 25\n",
            "Cube: 125\n"
          ]
        }
      ]
    },
    {
      "cell_type": "code",
      "source": [
        "#Use // (floor division) to divide two numbers and print the result\n",
        "num1 = 55\n",
        "num2 = 6\n",
        "\n",
        "#operation\n",
        "result = num1 // num2\n",
        "\n",
        "#Display output\n",
        "print(\"Floor division:\", result)"
      ],
      "metadata": {
        "colab": {
          "base_uri": "https://localhost:8080/"
        },
        "id": "V5i_4MpB094m",
        "outputId": "a1a30529-6487-4dd4-b8ac-e7be6657ea4e"
      },
      "execution_count": null,
      "outputs": [
        {
          "output_type": "stream",
          "name": "stdout",
          "text": [
            "Floor division: 9\n"
          ]
        }
      ]
    },
    {
      "cell_type": "code",
      "source": [
        "#Use / (division) to divide two numbers and print the result\n",
        "num1 = 55\n",
        "num2 = 6\n",
        "\n",
        "#operation\n",
        "result = num1 / num2\n",
        "\n",
        "#Display output\n",
        "print(\"Division:\", result)"
      ],
      "metadata": {
        "colab": {
          "base_uri": "https://localhost:8080/"
        },
        "id": "QQYzugUR1xx6",
        "outputId": "49e4e8fb-7600-4443-ecd8-5ee83996da75"
      },
      "execution_count": null,
      "outputs": [
        {
          "output_type": "stream",
          "name": "stdout",
          "text": [
            "Division: 9.166666666666666\n"
          ]
        }
      ]
    },
    {
      "cell_type": "code",
      "source": [
        "#Use ** operator to calculate 5^4\n",
        "num1 = 5\n",
        "num2 = 4\n",
        "\n",
        "#Formula\n",
        "exponent = num1 ** num2\n",
        "\n",
        "#Display output\n",
        "print(\"Answer:\", exponent)"
      ],
      "metadata": {
        "colab": {
          "base_uri": "https://localhost:8080/"
        },
        "id": "R4fm5ObP17_h",
        "outputId": "c5d1f47e-6a71-474e-a59f-2ee5508403d4"
      },
      "execution_count": null,
      "outputs": [
        {
          "output_type": "stream",
          "name": "stdout",
          "text": [
            "Answer: 625\n"
          ]
        }
      ]
    },
    {
      "cell_type": "code",
      "source": [
        "#Start with x = 10. Use x += 5, x -= 3, x *= 2, and print the value of x\n",
        "x = 10        # start with 10\n",
        "x += 5        # add 5\n",
        "x -= 3        # subtract 3\n",
        "x *=2          # multiply by 2\n",
        "\n",
        "#operation\n",
        "print(\"Final value of x is:\", x)"
      ],
      "metadata": {
        "colab": {
          "base_uri": "https://localhost:8080/"
        },
        "id": "rSrt4IwP2geM",
        "outputId": "d482c7bc-3f6f-49a2-96de-7651bef2fdca"
      },
      "execution_count": null,
      "outputs": [
        {
          "output_type": "stream",
          "name": "stdout",
          "text": [
            "Final value of x is: 24\n"
          ]
        }
      ]
    },
    {
      "cell_type": "code",
      "source": [
        "#Compare two numbers (taken as input) and print whether they are equal or not\n",
        "num_1 = int(input(\"Enter a number\"))\n",
        "num_2 = int(input(\"Enter a number\"))\n",
        "\n",
        "if num_1 == num_2:\n",
        "  print(\"Numbers are equal\")\n",
        "else:\n",
        "  print(\"Numbers are not equal\")\n"
      ],
      "metadata": {
        "colab": {
          "base_uri": "https://localhost:8080/"
        },
        "id": "1b7TKPdN3cjm",
        "outputId": "a12549c5-51ac-4772-9c26-41be64b3c9d8"
      },
      "execution_count": null,
      "outputs": [
        {
          "output_type": "stream",
          "name": "stdout",
          "text": [
            "Enter a number9\n",
            "Enter a number0\n",
            "Numbers are not equal\n"
          ]
        }
      ]
    },
    {
      "cell_type": "code",
      "source": [
        "#Check if 15 is greater than 20 and print the result\n",
        "num1 = 15\n",
        "num2 = 20\n",
        "\n",
        "if num1 > num2:\n",
        "  print(\"15 is greater than 20\")\n",
        "else:\n",
        "  print(\"15 is not greater than 20\")"
      ],
      "metadata": {
        "colab": {
          "base_uri": "https://localhost:8080/"
        },
        "id": "93T3fcB44cC9",
        "outputId": "f2091d17-9a53-4215-9398-d17824a5792f"
      },
      "execution_count": null,
      "outputs": [
        {
          "output_type": "stream",
          "name": "stdout",
          "text": [
            "15 is not greater than 20\n",
            "15 is not greater than 20\n"
          ]
        }
      ]
    },
    {
      "cell_type": "code",
      "source": [
        "x = 15\n",
        "y = 20\n",
        "\n",
        "result = x > y\n",
        "print(\"Is 15 greater than 20?\", result)\n"
      ],
      "metadata": {
        "colab": {
          "base_uri": "https://localhost:8080/"
        },
        "id": "WWcsYzpG6w-z",
        "outputId": "742d2e2e-270e-449c-8784-a2666a071d09"
      },
      "execution_count": null,
      "outputs": [
        {
          "output_type": "stream",
          "name": "stdout",
          "text": [
            "Is 15 greater than 20? False\n"
          ]
        }
      ]
    },
    {
      "cell_type": "code",
      "source": [
        "#Take two numbers and check if both are greater than 0 using and\n",
        "num1 = 10\n",
        "num2 = 20\n",
        "\n",
        "if num1 > 0 and num2 > 0:\n",
        "  print(\"Both numbers are greater than 0\")\n",
        "else:\n",
        "  print(\"Both numbers are not greater than 0\")"
      ],
      "metadata": {
        "colab": {
          "base_uri": "https://localhost:8080/"
        },
        "id": "Hp1OSBh-61lP",
        "outputId": "ad6d2f3e-24da-4dcf-8e2c-99a33e6d7e56"
      },
      "execution_count": null,
      "outputs": [
        {
          "output_type": "stream",
          "name": "stdout",
          "text": [
            "Both numbers are greater than 0\n"
          ]
        }
      ]
    },
    {
      "cell_type": "code",
      "source": [
        "#Check if a number is either less than 10 or greater than 50\n",
        "num = 30\n",
        "\n",
        "if num < 10 or num > 50:\n",
        "  print(\"Number is either less than 10 or greater than 50\")\n",
        "else:\n",
        "  print(\"Number is not less than 10 or greater than 50\")\n"
      ],
      "metadata": {
        "colab": {
          "base_uri": "https://localhost:8080/"
        },
        "id": "4EIfmcJS7k2I",
        "outputId": "6d7b9193-8855-4225-b4fd-5fc30ac66d93"
      },
      "execution_count": null,
      "outputs": [
        {
          "output_type": "stream",
          "name": "stdout",
          "text": [
            "Number is not less than 10 or greater than 50\n"
          ]
        }
      ]
    },
    {
      "cell_type": "code",
      "source": [
        "#Take a number as input and check if it is positive\n",
        "num = int(input(\"Enter a number\"))\n",
        "\n",
        "if num > 0:\n",
        "  print(\"Number is positive\")\n",
        "else:\n",
        "  print(\"Number is not positive\")"
      ],
      "metadata": {
        "colab": {
          "base_uri": "https://localhost:8080/"
        },
        "id": "no9KODD89Su5",
        "outputId": "55a5e891-d12f-49f5-a8b2-061645c4eb27"
      },
      "execution_count": null,
      "outputs": [
        {
          "output_type": "stream",
          "name": "stdout",
          "text": [
            "Enter a number6\n",
            "Number is positive\n"
          ]
        }
      ]
    },
    {
      "cell_type": "code",
      "source": [
        "#Check if a person’s age (input) is greater than or equal to 18, print \"Adult\"\n",
        "age = int(input(\"Enter your age\"))\n",
        "\n",
        "if age >= 18:\n",
        "  print(\"Adult\")\n",
        "else:\n",
        "  print(\"You are not adult, you are child.\")"
      ],
      "metadata": {
        "colab": {
          "base_uri": "https://localhost:8080/"
        },
        "id": "j8P0bCCe-0Ey",
        "outputId": "4ca63d25-ac4d-46ca-fe11-1f80578627df"
      },
      "execution_count": null,
      "outputs": [
        {
          "output_type": "stream",
          "name": "stdout",
          "text": [
            "Enter your age8\n",
            "You are not adult, you are child.\n"
          ]
        }
      ]
    },
    {
      "cell_type": "code",
      "source": [
        "#Store a number in a variable, check if it is divisible by 5\n",
        "num = int(input(\"Enter a number\"))\n",
        "\n",
        "if num % 5 == 0:\n",
        "  print(\"Number is divisible by 5\")\n",
        "else:\n",
        "  print(\"Number is not divisible by 5\")\n"
      ],
      "metadata": {
        "colab": {
          "base_uri": "https://localhost:8080/"
        },
        "id": "E1irUjFUBcUV",
        "outputId": "3d6924b0-405d-4735-9de3-28574e5f9cd4"
      },
      "execution_count": null,
      "outputs": [
        {
          "output_type": "stream",
          "name": "stdout",
          "text": [
            "Enter a number55\n",
            "Number is divisible by 5\n"
          ]
        }
      ]
    },
    {
      "cell_type": "code",
      "source": [
        "#Take a number and check if it is even or odd\n",
        "num = int(input(\"Enter a number\"))\n",
        "\n",
        "if num % 2 == 0:\n",
        "  print(\"Number is even\")\n",
        "else:\n",
        "  print(\"Number is odd\")"
      ],
      "metadata": {
        "colab": {
          "base_uri": "https://localhost:8080/"
        },
        "id": "NPHTa2GWBu4X",
        "outputId": "922d2f00-0d41-45b9-f640-128a4b2cde25"
      },
      "execution_count": null,
      "outputs": [
        {
          "output_type": "stream",
          "name": "stdout",
          "text": [
            "Enter a number44\n",
            "Number is even\n"
          ]
        }
      ]
    },
    {
      "cell_type": "code",
      "source": [
        "#Ask the user for a password, if it equals \"python123\", print \"Access Granted\", else \"Access Denied\"\n",
        "password = input(\"Enter a password\")\n",
        "\n",
        "if password == \"python123\":\n",
        "  print(\"Access Granted\")\n",
        "else:\n",
        "  print(\"Access Denied\")"
      ],
      "metadata": {
        "colab": {
          "base_uri": "https://localhost:8080/"
        },
        "id": "eacjlQ_WC8tE",
        "outputId": "760e303f-70cb-47c3-9008-f418f5b58864"
      },
      "execution_count": null,
      "outputs": [
        {
          "output_type": "stream",
          "name": "stdout",
          "text": [
            "Enter a passwordpython123\n",
            "Access Granted\n"
          ]
        }
      ]
    },
    {
      "cell_type": "code",
      "source": [
        "#Take marks as input. If marks ≥ 50 → \"Pass\", else \"Fail\"\n",
        "marks = int(input(\"Enter your marks\"))\n",
        "\n",
        "if marks >= 50:\n",
        "  print(\"Pass\")\n",
        "else:\n",
        "  print(\"Fail\")"
      ],
      "metadata": {
        "colab": {
          "base_uri": "https://localhost:8080/"
        },
        "id": "K9S81gYxv1ww",
        "outputId": "8ada9a4d-7be1-49e3-d0d9-eb25c1e28d9a"
      },
      "execution_count": null,
      "outputs": [
        {
          "output_type": "stream",
          "name": "stdout",
          "text": [
            "Enter your marks77\n",
            "Pass\n"
          ]
        }
      ]
    },
    {
      "cell_type": "code",
      "source": [
        "#Take a number and check if it is positive, negative, or zero\n",
        "num = int(input(\"Enter a number\"))\n",
        "\n",
        "if num > 0:\n",
        "  print(\"Number is positive\")\n",
        "elif num < 0:\n",
        "  print(\"Number is negative\")\n",
        "else:\n",
        "  print(\"Number is zero\")"
      ],
      "metadata": {
        "colab": {
          "base_uri": "https://localhost:8080/"
        },
        "id": "dcnBVupfwEgt",
        "outputId": "f0976a2a-1f9b-4cfb-d28c-8a51f396046a"
      },
      "execution_count": null,
      "outputs": [
        {
          "output_type": "stream",
          "name": "stdout",
          "text": [
            "Enter a number-9\n",
            "Number is negative\n"
          ]
        }
      ]
    },
    {
      "cell_type": "code",
      "source": [
        "#Ask for a grade (A, B, C, D, F) and print the remark (Excellent, Good, Average, Poor, Fail)\n",
        "grade = input(\"Enter your grade\")\n",
        "\n",
        "if grade == \"A\":\n",
        "  print(\"Excellent\")\n",
        "elif grade == \"B\":\n",
        "  print(\"Good\")\n",
        "elif grade == \"C\":\n",
        "  print(\"Average\")\n",
        "elif grade == \"D\":\n",
        "  print(\"Poor\")\n",
        "elif grade == \"F\":\n",
        "  print(\"Fail\")\n",
        "else:\n",
        "  print(\"Invalid grade\")"
      ],
      "metadata": {
        "colab": {
          "base_uri": "https://localhost:8080/"
        },
        "id": "H8iQjJya1mkj",
        "outputId": "90d43c68-6aa6-4591-cb54-8c3a3aa5c3b4"
      },
      "execution_count": null,
      "outputs": [
        {
          "output_type": "stream",
          "name": "stdout",
          "text": [
            "Enter your graded\n",
            "Invalid grade\n"
          ]
        }
      ]
    },
    {
      "cell_type": "code",
      "source": [
        "#Take an integer and check\n",
        "num = int(input(\"Enter a number\"))\n",
        "\n",
        "if num / 3:     #If divisible by 3 → print \"Fizz\"\n",
        "  print(\"Fizz\")\n",
        "elif num / 5:    #If divisible by 5 → print \"Buzz\"\n",
        "  print(\"Buzz\")\n",
        "elif num / 3 and num / 5:   ##If divisible by both → print \"FizzBuzz\"\n",
        "  print(\"FizzBuzz\")\n",
        "else:\n",
        "  print(\"Number is not divisible by 3 or 5\")\n"
      ],
      "metadata": {
        "colab": {
          "base_uri": "https://localhost:8080/"
        },
        "id": "byBYsAq52dLt",
        "outputId": "3b0e91b5-e5f4-4235-f7c8-2402b68a7c03"
      },
      "execution_count": null,
      "outputs": [
        {
          "output_type": "stream",
          "name": "stdout",
          "text": [
            "Enter a number5\n",
            "Fizz\n"
          ]
        }
      ]
    },
    {
      "cell_type": "code",
      "source": [
        "#Take age and nationality as input. If age ≥ 18 and nationality = \"Pakistani\", print \"Eligible to vote\", else not eligible\n",
        "age = int(input(\"Your age\"))\n",
        "nationality = input(\"Enter your nationality: \")\n",
        "\n",
        "if age >= 18:\n",
        "  if nationality == \"pakastani\":\n",
        "    print(\"Eligible to vote\")\n",
        "  else:\n",
        "    print(\"Not eligible due to wrong nationality\")\n",
        "else:\n",
        "  print(\"Not eliible due to underage\")\n"
      ],
      "metadata": {
        "colab": {
          "base_uri": "https://localhost:8080/"
        },
        "id": "i29a2_wA5-Ua",
        "outputId": "b133ea72-239a-41db-ec78-d4bca0cbdea3"
      },
      "execution_count": null,
      "outputs": [
        {
          "output_type": "stream",
          "name": "stdout",
          "text": [
            "Your age19\n",
            "Enter your nationality: pakastani\n",
            "Eligible to vote\n"
          ]
        }
      ]
    },
    {
      "cell_type": "code",
      "source": [
        "#Take three numbers and print the largest using nested if\n",
        "num1 = 15\n",
        "num2 = 29\n",
        "num3 = 17\n",
        "if num1 > num2 and num1 > num3:\n",
        "  print(\"The largest number is:\", num1)\n",
        "elif num2 > num1 and num2 > num3:\n",
        "  print(\"The largest num is:\", num2)\n",
        "elif num3 > num1 and num3 > num2:\n",
        "  print(\"The largest num is:\", num3)\n",
        "else:\n",
        "  print(\"None of them is largest\")"
      ],
      "metadata": {
        "colab": {
          "base_uri": "https://localhost:8080/"
        },
        "id": "3S-ZnsXSZM6u",
        "outputId": "25aaace0-000d-4603-e084-66e4cb42f7fa"
      },
      "execution_count": null,
      "outputs": [
        {
          "output_type": "stream",
          "name": "stdout",
          "text": [
            "The largest num is: 29\n"
          ]
        }
      ]
    },
    {
      "cell_type": "code",
      "source": [
        "#Take three numbers and print the largest using nested if\n",
        "a = int(input(\"Enter a number\"))\n",
        "b = int(input(\"Enter a number\"))\n",
        "c = int(input(\"Enter a number\"))\n",
        "\n",
        "#nested if o find largest number\n",
        "if a >= b:\n",
        "  if a >=c:\n",
        "    print(\"Largest number is:\", a)\n",
        "  else:\n",
        "    print(\"Largest number is:\", c)\n",
        "  else:\n",
        "    if b >= c:\n",
        "      print()\n"
      ],
      "metadata": {
        "id": "SRrDKDkdaoiH"
      },
      "execution_count": null,
      "outputs": []
    },
    {
      "cell_type": "code",
      "source": [
        "#write a program that compares the areas of two different rectangles\n",
        "length_1 = int(input(\"Enter the num\"))\n",
        "length_2 = int(input(\"Enter the num\"))\n",
        "width_1 = int(input(\"Enter the num\"))\n",
        "width_2 = int(input(\"Enter the num\"))\n",
        "\n",
        "area_1 = length_1 * width_1\n",
        "area_2 = length_2 * width_2\n",
        "\n",
        "#Display output\n",
        "if area_1 > area_2:\n",
        "  print(\"The Rectangle 1 is greater:\", area_1)\n",
        "else:\n",
        "  print(\"The Rectangle 2 is greater:\", area_2)"
      ],
      "metadata": {
        "colab": {
          "base_uri": "https://localhost:8080/"
        },
        "id": "nTFfMNluyxBf",
        "outputId": "74321751-c911-4e2d-c436-eb3a7bafbb31"
      },
      "execution_count": null,
      "outputs": [
        {
          "output_type": "stream",
          "name": "stdout",
          "text": [
            "Enter the num4\n",
            "Enter the num5\n",
            "Enter the num8\n",
            "Enter the num2\n",
            "The Rectangle 1 is greater: 32\n"
          ]
        }
      ]
    },
    {
      "cell_type": "code",
      "source": [
        "#Print numbers from 1 to 10 using a while loop\n",
        "i = 1\n",
        "\n",
        "while i <= 10:\n",
        "  print(i)\n",
        "  i += 1"
      ],
      "metadata": {
        "colab": {
          "base_uri": "https://localhost:8080/"
        },
        "id": "01auxQxQ2lXb",
        "outputId": "374b5be2-e771-4c01-f37e-f5ebbdc350e4"
      },
      "execution_count": null,
      "outputs": [
        {
          "output_type": "stream",
          "name": "stdout",
          "text": [
            "1\n",
            "2\n",
            "3\n",
            "4\n",
            "5\n",
            "6\n",
            "7\n",
            "8\n",
            "9\n",
            "10\n"
          ]
        }
      ]
    },
    {
      "cell_type": "code",
      "source": [
        "#Print even numbers from 2 to 20 using a while loop\n",
        "i = 2\n",
        "\n",
        "while i <= 20:\n",
        "  print(i)\n",
        "  i += 2\n"
      ],
      "metadata": {
        "colab": {
          "base_uri": "https://localhost:8080/"
        },
        "id": "FAam_ALJNeVy",
        "outputId": "aa1a8f9b-39c1-495a-9871-9c3a4bbbe629"
      },
      "execution_count": null,
      "outputs": [
        {
          "output_type": "stream",
          "name": "stdout",
          "text": [
            "2\n",
            "4\n",
            "6\n",
            "8\n",
            "10\n",
            "12\n",
            "14\n",
            "16\n",
            "18\n",
            "20\n"
          ]
        }
      ]
    },
    {
      "cell_type": "code",
      "source": [
        "#Print even numbers from 2 to 20 using a while loop\n",
        "i = 1\n",
        "while i<= 20:\n",
        "  if i % 2 == 0:\n",
        "    print(i)\n",
        "  i += 1\n"
      ],
      "metadata": {
        "colab": {
          "base_uri": "https://localhost:8080/"
        },
        "id": "__nHZjYXOeqe",
        "outputId": "7cdb4fd5-8dfb-4795-bc7e-91bc09b4ad09"
      },
      "execution_count": null,
      "outputs": [
        {
          "output_type": "stream",
          "name": "stdout",
          "text": [
            "2\n",
            "4\n",
            "6\n",
            "8\n",
            "10\n",
            "12\n",
            "14\n",
            "16\n",
            "18\n",
            "20\n"
          ]
        }
      ]
    },
    {
      "cell_type": "code",
      "source": [
        "#Print the table of 5 using a while loop\n",
        "i = 1\n",
        "while i <=10:\n",
        "  print(\"5 x\", i, \"=\", 5 * i)\n",
        "  i += 1"
      ],
      "metadata": {
        "colab": {
          "base_uri": "https://localhost:8080/"
        },
        "id": "Tntgs_22Pl3-",
        "outputId": "1f0ac980-b0e0-46f2-b3e5-7a9fd1c12ce5"
      },
      "execution_count": null,
      "outputs": [
        {
          "output_type": "stream",
          "name": "stdout",
          "text": [
            "5 x 1 = 5\n",
            "5 x 2 = 10\n",
            "5 x 3 = 15\n",
            "5 x 4 = 20\n",
            "5 x 5 = 25\n",
            "5 x 6 = 30\n",
            "5 x 7 = 35\n",
            "5 x 8 = 40\n",
            "5 x 9 = 45\n",
            "5 x 10 = 50\n"
          ]
        }
      ]
    },
    {
      "cell_type": "code",
      "source": [
        "#Take a number as input and print its multiplication table using a while loop\n",
        "num = int(input(\"Enter a number\"))\n",
        "\n",
        "i = 1\n",
        "while i <= 10:\n",
        "  print (\"num x\", i, \"=\",num * i)\n",
        "  i += 1\n",
        "\n",
        "\n"
      ],
      "metadata": {
        "colab": {
          "base_uri": "https://localhost:8080/"
        },
        "id": "NQmME8qmQ6J9",
        "outputId": "c5237186-4276-4d70-eb8a-a8bfb6d04781"
      },
      "execution_count": null,
      "outputs": [
        {
          "output_type": "stream",
          "name": "stdout",
          "text": [
            "Enter a number4\n",
            "num x 1 = 4\n",
            "num x 2 = 8\n",
            "num x 3 = 12\n",
            "num x 4 = 16\n",
            "num x 5 = 20\n",
            "num x 6 = 24\n",
            "num x 7 = 28\n",
            "num x 8 = 32\n",
            "num x 9 = 36\n",
            "num x 10 = 40\n"
          ]
        }
      ]
    },
    {
      "cell_type": "code",
      "source": [
        "#Print numbers from 10 down to 1 using a while loop\n",
        "i = 10\n",
        "while i >=1:\n",
        "  i -= 1\n",
        "  print(i)"
      ],
      "metadata": {
        "colab": {
          "base_uri": "https://localhost:8080/"
        },
        "id": "DmzrNXiphXNI",
        "outputId": "e07380e2-285e-40b6-b0a2-f2fa1e216915"
      },
      "execution_count": null,
      "outputs": [
        {
          "output_type": "stream",
          "name": "stdout",
          "text": [
            "9\n",
            "8\n",
            "7\n",
            "6\n",
            "5\n",
            "4\n",
            "3\n",
            "2\n",
            "1\n",
            "0\n"
          ]
        }
      ]
    },
    {
      "cell_type": "code",
      "source": [
        "#Print numbers from 1 to 10 using a for loop\n"
      ],
      "metadata": {
        "id": "HyovNQvwiwBa"
      },
      "execution_count": null,
      "outputs": []
    },
    {
      "cell_type": "code",
      "source": [
        "#Copy this dataset and use it to practice building a Linear Regression model that predicts a student’s exam score.\n",
        "\n",
        "#Importing Libraries\n",
        "from sklearn.model_selection import train_test_split\n",
        "from sklearn.linear_model import LinearRegression\n",
        "import pandas as pd\n",
        "\n",
        "data = {\n",
        "    \"Study_Hours\": [2, 3, 4, 5, 6, 7, 8, 3, 5, 6, 7, 8, 9, 10, 12],\n",
        "    \"Sleep_Hours\": [7, 6.5, 6, 5.5, 5, 5, 4.5, 7, 6, 5.5, 5, 4.5, 4, 4, 3.5],\n",
        "    \"Attendance\": [60, 65, 68, 72, 75, 78, 80, 62, 70, 74, 76, 79, 82, 85, 90],\n",
        "    \"Exam_Score\": [50, 55, 60, 65, 70, 72, 75, 58, 67, 72, 74, 78, 82, 85, 90]\n",
        "}\n",
        "\n",
        "# Create a DataFrame from the data dictionary\n",
        "df = pd.DataFrame(data)\n",
        "\n",
        "print(df)\n",
        "\n",
        "print()\n",
        "\n",
        "print\n",
        " ()\n",
        "#Values assingment and model traning\n",
        "X = df[[\"Study_Hours\", \"Sleep_Hours\", \"Attendance\"]]\n",
        "y = df[\"Exam_Score\"]\n",
        "model = LinearRegression()\n",
        "model.fit(X,y)\n",
        "\n",
        "#predicting value after model traning\n",
        "C\n",
        "\n"
      ],
      "metadata": {
        "colab": {
          "base_uri": "https://localhost:8080/",
          "height": 300
        },
        "id": "o3wW8KJUmpZV",
        "outputId": "09dcc726-6736-40d2-917e-bfb9bfea5eaf"
      },
      "execution_count": null,
      "outputs": [
        {
          "output_type": "error",
          "ename": "IndentationError",
          "evalue": "unexpected indent (ipython-input-3821860353.py, line 23)",
          "traceback": [
            "\u001b[0;36m  File \u001b[0;32m\"/tmp/ipython-input-3821860353.py\"\u001b[0;36m, line \u001b[0;32m23\u001b[0m\n\u001b[0;31m    ()\u001b[0m\n\u001b[0m    ^\u001b[0m\n\u001b[0;31mIndentationError\u001b[0m\u001b[0;31m:\u001b[0m unexpected indent\n"
          ]
        }
      ]
    },
    {
      "cell_type": "code",
      "source": [],
      "metadata": {
        "id": "dov5a5nzFhfp"
      },
      "execution_count": null,
      "outputs": []
    }
  ]
}