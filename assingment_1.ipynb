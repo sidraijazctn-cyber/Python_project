{
  "nbformat": 4,
  "nbformat_minor": 0,
  "metadata": {
    "colab": {
      "provenance": [],
      "authorship_tag": "ABX9TyN0kyYGlnyhi2BOTupV2aO2",
      "include_colab_link": true
    },
    "kernelspec": {
      "name": "python3",
      "display_name": "Python 3"
    },
    "language_info": {
      "name": "python"
    }
  },
  "cells": [
    {
      "cell_type": "markdown",
      "metadata": {
        "id": "view-in-github",
        "colab_type": "text"
      },
      "source": [
        "<a href=\"https://colab.research.google.com/github/sidraijazctn-cyber/Python_project/blob/main/assingment_1.ipynb\" target=\"_parent\"><img src=\"https://colab.research.google.com/assets/colab-badge.svg\" alt=\"Open In Colab\"/></a>"
      ]
    },
    {
      "cell_type": "code",
      "execution_count": null,
      "metadata": {
        "colab": {
          "base_uri": "https://localhost:8080/"
        },
        "id": "5W1NDbbsqxJq",
        "outputId": "a5a1d034-a59d-4d3f-e905-54a5057f38cc"
      },
      "outputs": [
        {
          "output_type": "stream",
          "name": "stdout",
          "text": [
            "Enter your birth year: 2002\n",
            "Enter the current year: 2025\n",
            "You are 23 years old.\n"
          ]
        }
      ],
      "source": [
        "# Ask for the birth year and the current year\n",
        "birth_year = int(input(\"Enter your birth year: \"))\n",
        "current_year = int(input(\"Enter the current year: \"))\n",
        "\n",
        "# Calculate age\n",
        "age = current_year - birth_year\n",
        "\n",
        "# Print the age\n",
        "print(f\"You are {age} years old.\")\n"
      ]
    },
    {
      "cell_type": "markdown",
      "source": [
        "# New Section"
      ],
      "metadata": {
        "id": "4MmQUfFprMl4"
      }
    },
    {
      "cell_type": "code",
      "source": [
        "\n",
        "principal = float(input(\"Enter the principal amount: \"))\n",
        "rate = float(input(\"Enter the rate of interest (in percentage): \"))\n",
        "time = float(input(\"Enter the time period (in years): \"))\n",
        "\n",
        "# Calculate Simple Interest\n",
        "simple_interest = (principal * rate * time) / 100\n",
        "\n",
        "print(f\"The simple interest is: {simple_interest}\")\n"
      ],
      "metadata": {
        "colab": {
          "base_uri": "https://localhost:8080/"
        },
        "id": "z-gEjd68rUSg",
        "outputId": "5a2dd92a-1da4-40e1-f253-aa00f82c1dcf"
      },
      "execution_count": null,
      "outputs": [
        {
          "output_type": "stream",
          "name": "stdout",
          "text": [
            "Enter the principal amount: 400987\n",
            "Enter the rate of interest (in percentage): 46\n",
            "Enter the time period (in years): 5\n",
            "The simple interest is: 922270.1\n"
          ]
        }
      ]
    },
    {
      "cell_type": "code",
      "source": [
        "\n",
        "length = int(input(\"Enter the length of the rectangle: \"))\n",
        "width = int(input(\"Enter the width of the rectangle: \"))\n",
        "\n",
        "# Calculate the area of the rectangle\n",
        "area = length * width\n",
        "\n",
        "# Display the area\n",
        "print(f\"The area of the rectangle is\")\n"
      ],
      "metadata": {
        "colab": {
          "base_uri": "https://localhost:8080/"
        },
        "id": "UrHOXfAQrwlF",
        "outputId": "e99612bb-3a10-448c-9c79-e83cc9575838"
      },
      "execution_count": null,
      "outputs": [
        {
          "output_type": "stream",
          "name": "stdout",
          "text": [
            "Enter the length of the rectangle: 12\n",
            "Enter the width of the rectangle: 4\n",
            "The area of the rectangle is\n"
          ]
        }
      ]
    }
  ]
}