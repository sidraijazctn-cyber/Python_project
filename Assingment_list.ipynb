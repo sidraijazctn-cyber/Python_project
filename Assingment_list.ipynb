{
  "nbformat": 4,
  "nbformat_minor": 0,
  "metadata": {
    "colab": {
      "provenance": [],
      "authorship_tag": "ABX9TyMsa4/2c7wioUgQ+EOOSaeb",
      "include_colab_link": true
    },
    "kernelspec": {
      "name": "python3",
      "display_name": "Python 3"
    },
    "language_info": {
      "name": "python"
    }
  },
  "cells": [
    {
      "cell_type": "markdown",
      "metadata": {
        "id": "view-in-github",
        "colab_type": "text"
      },
      "source": [
        "<a href=\"https://colab.research.google.com/github/sidraijazctn-cyber/Python_project/blob/main/Assingment_list.ipynb\" target=\"_parent\"><img src=\"https://colab.research.google.com/assets/colab-badge.svg\" alt=\"Open In Colab\"/></a>"
      ]
    },
    {
      "cell_type": "code",
      "execution_count": null,
      "metadata": {
        "colab": {
          "base_uri": "https://localhost:8080/"
        },
        "id": "AEDwe5xNLuCX",
        "outputId": "e6461fae-c3fa-40a2-e2da-a524497414b6"
      },
      "outputs": [
        {
          "output_type": "stream",
          "name": "stdout",
          "text": [
            "Apple\n",
            "Mango\n"
          ]
        }
      ],
      "source": [
        "my_list = [\"Apple\", \"Cheery\",\"Gappes\",\"Orange\",\"Mango\"] #List of 5 fruits\n",
        "\n",
        "#print(\"First fruit is\", my_list[0]) #Output the first fruit (indrex[0])\n",
        "#print(\"Last fruit is\", my_list[-1]) #Output the last fruit (indrex[-1])\n",
        "print(my_list[0])\n",
        "print(my_list[-1])"
      ]
    },
    {
      "cell_type": "code",
      "source": [
        "num = [10,20,30,40,50] #create a list of numbers\n",
        "total = sum(num) #Output th sum of numbers\n",
        "print(\"The sum of numbers in the list is:\", total)"
      ],
      "metadata": {
        "colab": {
          "base_uri": "https://localhost:8080/"
        },
        "id": "uE_-M3mCNXHQ",
        "outputId": "0be54ba6-f611-42e6-855f-124d89f483b0"
      },
      "execution_count": null,
      "outputs": [
        {
          "output_type": "stream",
          "name": "stdout",
          "text": [
            "The sum of numbers in the list is: 150\n"
          ]
        }
      ]
    },
    {
      "cell_type": "code",
      "source": [
        " # create a list of four colours\n",
        "Colours = [\"Red\",\"Blue\", \"Green\", \"Yellow\"]\n",
        "Colours[1] = \"Purple\" # Replace the 2nd color (index 1) with a new Colour\n",
        "\n",
        "print(\"The colours of new list is:\", Colours)"
      ],
      "metadata": {
        "colab": {
          "base_uri": "https://localhost:8080/"
        },
        "id": "cUmKkVdWQ8-B",
        "outputId": "4c1b2e71-ad72-43ed-feba-40ce4d1ad33c"
      },
      "execution_count": null,
      "outputs": [
        {
          "output_type": "stream",
          "name": "stdout",
          "text": [
            "The colours of new list is: ['Red', 'Purple', 'Green', 'Yellow']\n"
          ]
        }
      ]
    },
    {
      "cell_type": "code",
      "source": [
        "#Create a list\n",
        "my_list = [5,10,15,20,25]\n",
        "my_list.remove(15) # remove 15\n",
        "\n",
        "print(my_list)\n"
      ],
      "metadata": {
        "colab": {
          "base_uri": "https://localhost:8080/"
        },
        "id": "_ajYW_DdQzga",
        "outputId": "92b9c22c-04fc-4e65-8334-57abaa7dd057"
      },
      "execution_count": null,
      "outputs": [
        {
          "output_type": "stream",
          "name": "stdout",
          "text": [
            "[5, 10, 20, 25]\n"
          ]
        }
      ]
    }
  ]
}