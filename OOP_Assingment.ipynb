{
  "nbformat": 4,
  "nbformat_minor": 0,
  "metadata": {
    "colab": {
      "provenance": [],
      "authorship_tag": "ABX9TyOykCPmn6aF7uPF/vFyLosS",
      "include_colab_link": true
    },
    "kernelspec": {
      "name": "python3",
      "display_name": "Python 3"
    },
    "language_info": {
      "name": "python"
    }
  },
  "cells": [
    {
      "cell_type": "markdown",
      "metadata": {
        "id": "view-in-github",
        "colab_type": "text"
      },
      "source": [
        "<a href=\"https://colab.research.google.com/github/sidraijazctn-cyber/Python_project/blob/main/OOP_Assingment.ipynb\" target=\"_parent\"><img src=\"https://colab.research.google.com/assets/colab-badge.svg\" alt=\"Open In Colab\"/></a>"
      ]
    },
    {
      "cell_type": "code",
      "execution_count": null,
      "metadata": {
        "colab": {
          "base_uri": "https://localhost:8080/",
          "height": 211
        },
        "id": "2DQ0tn7a9AkU",
        "outputId": "0167c3a9-4d3b-4b63-a308-800883616ae0"
      },
      "outputs": [
        {
          "output_type": "error",
          "ename": "AttributeError",
          "evalue": "'car' object has no attribute 'brand'",
          "traceback": [
            "\u001b[0;31m---------------------------------------------------------------------------\u001b[0m",
            "\u001b[0;31mAttributeError\u001b[0m                            Traceback (most recent call last)",
            "\u001b[0;32m/tmp/ipython-input-2894449957.py\u001b[0m in \u001b[0;36m<cell line: 0>\u001b[0;34m()\u001b[0m\n\u001b[1;32m     16\u001b[0m \u001b[0mcar_obj\u001b[0m \u001b[0;34m=\u001b[0m \u001b[0mcar\u001b[0m\u001b[0;34m(\u001b[0m\u001b[0;34m)\u001b[0m\u001b[0;34m\u001b[0m\u001b[0;34m\u001b[0m\u001b[0m\n\u001b[1;32m     17\u001b[0m \u001b[0;34m\u001b[0m\u001b[0m\n\u001b[0;32m---> 18\u001b[0;31m \u001b[0mcar_obj\u001b[0m\u001b[0;34m.\u001b[0m\u001b[0mbrand\u001b[0m\u001b[0;34m(\u001b[0m\u001b[0;34m)\u001b[0m\u001b[0;34m\u001b[0m\u001b[0;34m\u001b[0m\u001b[0m\n\u001b[0m\u001b[1;32m     19\u001b[0m \u001b[0mCar_obj\u001b[0m\u001b[0;34m.\u001b[0m\u001b[0mmodel\u001b[0m\u001b[0;34m(\u001b[0m\u001b[0;34m)\u001b[0m\u001b[0;34m\u001b[0m\u001b[0;34m\u001b[0m\u001b[0m\n\u001b[1;32m     20\u001b[0m \u001b[0mcar_obj\u001b[0m\u001b[0;34m.\u001b[0m\u001b[0myear\u001b[0m\u001b[0;34m(\u001b[0m\u001b[0;34m)\u001b[0m\u001b[0;34m\u001b[0m\u001b[0;34m\u001b[0m\u001b[0m\n",
            "\u001b[0;31mAttributeError\u001b[0m: 'car' object has no attribute 'brand'"
          ]
        }
      ],
      "source": [
        "#class car\n",
        "class car:\n",
        "  def brand(self):\n",
        "    print(\"Honda\")\n",
        "\n",
        "# Brand\n",
        "class car:\n",
        "  def model(self):\n",
        "    print(\"Civic\")\n",
        "\n",
        "#year\n",
        "class car:\n",
        "  def year(self):\n",
        "    print(2022)\n",
        "#creating an object for class car\n",
        "car_obj = car()\n",
        "\n",
        "car_obj.brand()\n",
        "Car_obj.model()\n",
        "car_obj.year()"
      ]
    },
    {
      "cell_type": "code",
      "source": [
        "#class Car with members brand, model, and year\n",
        "class Car:\n",
        "  def __init__(self, brand, model, year):\n",
        "    self.brand = brand\n",
        "    self.model = model\n",
        "    self.year = year\n",
        "\n",
        "#method to display details\n",
        "  def car_info(self):\n",
        "    print(\"Brand:\", self.brand)\n",
        "    print(\"Model:\", self.model)\n",
        "    print(\"Year:\", self.year)\n",
        "\n",
        "#creating object of the class car\n",
        "car1 = Car(\"Honda\", \"Civic\", 2022)\n",
        "car2 = Car(\"Toyota\", \"Corolla\", 2024)\n",
        "\n",
        "# Calling the info function to display object details\n",
        "car1.car_info()\n",
        "car2.car_info()"
      ],
      "metadata": {
        "colab": {
          "base_uri": "https://localhost:8080/"
        },
        "id": "wWtNXZY-BIS0",
        "outputId": "01c1a03f-b0c4-4bb8-971a-62cf43ca6771"
      },
      "execution_count": null,
      "outputs": [
        {
          "output_type": "stream",
          "name": "stdout",
          "text": [
            "Brand: Honda\n",
            "Model: Civic\n",
            "Year: 2022\n",
            "Brand: Toyota\n",
            "Model: Corolla\n",
            "Year: 2024\n"
          ]
        }
      ]
    },
    {
      "cell_type": "code",
      "source": [
        "#class Student with members name, roll_no, and marks\n",
        "class Student:\n",
        "  def __init__ (self, name, roll_no, marks):\n",
        "    self.name = name\n",
        "    self.roll_no = roll_no\n",
        "    self.marks = marks\n",
        "\n",
        "# method to display output\n",
        "  def student_info(self):\n",
        "    print(\"Name:\", self.name)\n",
        "    print(\"Roll No:\", self.roll_no)\n",
        "    print(\"Marks:\", self.marks)\n",
        "\n",
        "#creatr object of the calss\n",
        "Student1 = Student(\"Amna\", 14, (890/1100) * 100)\n",
        "Student2 = Student(\"Maira\", 12, (920/1100) * 100)\n",
        "\n",
        "#calling the info function to display object details\n",
        "Student1.student_info()\n",
        "Student2.student_info()\n",
        "\n",
        "\n"
      ],
      "metadata": {
        "id": "-CnD8cs3JbQD",
        "colab": {
          "base_uri": "https://localhost:8080/"
        },
        "outputId": "4077e323-147c-4ce1-afd2-816f1bdb5011"
      },
      "execution_count": null,
      "outputs": [
        {
          "output_type": "stream",
          "name": "stdout",
          "text": [
            "Name: Amna\n",
            "Roll No: 14\n",
            "Marks: 80.9090909090909\n",
            "Name: Maira\n",
            "Roll No: 12\n",
            "Marks: 83.63636363636363\n"
          ]
        }
      ]
    },
    {
      "cell_type": "code",
      "source": [
        "#Create calculator\n",
        "class Calculator:\n",
        "  def __init__(self, x, y):\n",
        "    self.x = x\n",
        "    self.y = y\n",
        "  def add(self):\n",
        "    print(self.x + self.y)\n",
        "    return self.x + self.y\n",
        "  def sub(self):\n",
        "    print(self.x - self.y)\n",
        "    return self.x - self.y\n",
        "  def mul(self):\n",
        "    print(self.x * self.y)\n",
        "    return self.x * self.y\n",
        "  def div(self):\n",
        "    print(self.x / self.y)\n",
        "    return self.x / self.y\n",
        "\n",
        "# create calcuator\n",
        "x = 10\n",
        "y = 20\n",
        "my_calculator = Calculator(x, y)\n",
        "\n",
        "#Perform operation using the object\n",
        "my_calculator.add()\n",
        "my_calculator.sub()\n",
        "my_calculator.mul()\n",
        "my_calculator.div()"
      ],
      "metadata": {
        "colab": {
          "base_uri": "https://localhost:8080/"
        },
        "id": "tc7Cm9cZ_0vf",
        "outputId": "83b2b5ac-b492-4163-f7ed-1024238feedc"
      },
      "execution_count": null,
      "outputs": [
        {
          "output_type": "stream",
          "name": "stdout",
          "text": [
            "30\n",
            "-10\n",
            "200\n",
            "0.5\n"
          ]
        },
        {
          "output_type": "execute_result",
          "data": {
            "text/plain": [
              "0.5"
            ]
          },
          "metadata": {},
          "execution_count": 29
        }
      ]
    },
    {
      "cell_type": "code",
      "source": [
        "# class book with attributes title, author, and price\n",
        "class book:\n",
        "  def __init__ (self, title, author, price):\n",
        "    self.title = title\n",
        "    self.author = author\n",
        "    self.price = price\n",
        "\n",
        "# method to display output\n",
        "  def book_info(self):\n",
        "    print(\"Title:\", self.title)\n",
        "    print(\"Author:\", self.author)\n",
        "    print(\"Price:\", self.price)\n",
        "\n",
        "#display object\n",
        "book1 = book(\"Calculus\", \"j.j Thomosom\", 450)\n",
        "book2 = book(\"Fluid ynamics\", \"not known\", 650)\n",
        "\n",
        "#calling the info function to display object details\n",
        "book1.book_info()\n",
        "book2.book_info()"
      ],
      "metadata": {
        "colab": {
          "base_uri": "https://localhost:8080/"
        },
        "id": "q4v1DlhdGZBT",
        "outputId": "879af11d-fc1a-40ab-e7f7-2941a0f9afa8"
      },
      "execution_count": null,
      "outputs": [
        {
          "output_type": "stream",
          "name": "stdout",
          "text": [
            "Title: Calculus\n",
            "Author: j.j Thomosom\n",
            "Price: 450\n",
            "Title: Fluid ynamics\n",
            "Author: not known\n",
            "Price: 650\n"
          ]
        }
      ]
    },
    {
      "cell_type": "code",
      "source": [],
      "metadata": {
        "id": "jp3L39EDG-RC"
      },
      "execution_count": null,
      "outputs": []
    }
  ]
}